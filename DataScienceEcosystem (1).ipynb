{
 "cells": [
  {
   "cell_type": "code",
   "execution_count": 1,
   "id": "12297439-e3bc-4cee-bfee-2ac9e1320c26",
   "metadata": {
    "tags": []
   },
   "outputs": [
    {
     "name": "stdout",
     "output_type": "stream",
     "text": [
      "hello\n"
     ]
    }
   ],
   "source": [
    "print (\"hello\")\n"
   ]
  },
  {
   "cell_type": "markdown",
   "id": "ff10209b-ff5c-4f3b-a326-f3e7eaca009c",
   "metadata": {
    "tags": []
   },
   "source": [
    "The title of this notebook is DataScienceEcosystem"
   ]
  },
  {
   "cell_type": "markdown",
   "id": "d42b9daf-0595-4e6e-b440-c75a8ad61960",
   "metadata": {},
   "source": [
    "introduction"
   ]
  },
  {
   "cell_type": "markdown",
   "id": "1c683da2-6aef-4c49-b036-8581bbd3d98e",
   "metadata": {},
   "source": [
    "Data Science languages are:\n",
    "<ul><li>Python\n",
    "</li><li>R</li>\n",
    "</li><li>Julia</li>\n",
    "</li><li>Scala</li>\n",
    "</ul>"
   ]
  },
  {
   "cell_type": "markdown",
   "id": "868c3a67-bc48-4345-b54a-4bc22b35a32b",
   "metadata": {},
   "source": [
    "Data science libraries are:\n",
    "Data Science languages are:\n",
    "<ul><li>Matplotliib</li>\n",
    "<li>ScikitLearn</li>\n",
    "</li><li>Numpy</li>\n",
    "</li><li>Pandas</li>\n",
    "</ul>\n",
    "\n",
    "\n",
    "\n"
   ]
  },
  {
   "cell_type": "markdown",
   "id": "59e3c9d0-cc17-46d1-ab96-6387f3c5f666",
   "metadata": {},
   "source": [
    "| Data Science Tools    | \n",
    "| -------- |\n",
    "| Apache Spark  | \n",
    "| Apache Hadoop | \n",
    "| MongoDB   | "
   ]
  },
  {
   "cell_type": "markdown",
   "id": "942545ab-dda0-412d-98c7-deff68073e25",
   "metadata": {},
   "source": [
    "An arithmetic expression example is a+b=c"
   ]
  },
  {
   "cell_type": "code",
   "execution_count": 3,
   "id": "c1ef3251-538b-4a6a-ab0c-98cd67270577",
   "metadata": {
    "tags": []
   },
   "outputs": [
    {
     "name": "stdout",
     "output_type": "stream",
     "text": [
      "3\n"
     ]
    }
   ],
   "source": [
    "a=1\n",
    "b=2\n",
    "c=a+b\n",
    "print(c)"
   ]
  },
  {
   "cell_type": "code",
   "execution_count": 4,
   "id": "719a3070-8af9-44f7-bc1a-e074fd556642",
   "metadata": {
    "tags": []
   },
   "outputs": [
    {
     "name": "stdout",
     "output_type": "stream",
     "text": [
      "6\n"
     ]
    }
   ],
   "source": [
    "x=2\n",
    "y=3\n",
    "z=x*y\n",
    "print (z)\n"
   ]
  },
  {
   "cell_type": "code",
   "execution_count": 7,
   "id": "09522d0b-9d23-483e-a77c-1d1546805b34",
   "metadata": {
    "tags": []
   },
   "outputs": [
    {
     "name": "stdout",
     "output_type": "stream",
     "text": [
      "1:10\n"
     ]
    }
   ],
   "source": [
    "total_minutes = 70\n",
    "\n",
    "hours = total_minutes // 60\n",
    "\n",
    "minutes = total_minutes % 60\n",
    "\n",
    "time = \"{}:{}\".format(hours, minutes)\n",
    "\n",
    "print(time)"
   ]
  },
  {
   "cell_type": "markdown",
   "id": "6f55d8c8-4d5c-41a7-9e91-47c28a3b1831",
   "metadata": {},
   "source": [
    "The objective is to learn data science"
   ]
  },
  {
   "cell_type": "markdown",
   "id": "a33f5ddf-3940-43bd-a4c1-e9b6f8651fcc",
   "metadata": {},
   "source": [
    "author's name: Anshika Arora"
   ]
  },
  {
   "cell_type": "code",
   "execution_count": null,
   "id": "e2058c6d-f9dc-4525-b959-fbb820439d2d",
   "metadata": {},
   "outputs": [],
   "source": []
  }
 ],
 "metadata": {
  "kernelspec": {
   "display_name": "Python",
   "language": "python",
   "name": "conda-env-python-py"
  },
  "language_info": {
   "codemirror_mode": {
    "name": "ipython",
    "version": 3
   },
   "file_extension": ".py",
   "mimetype": "text/x-python",
   "name": "python",
   "nbconvert_exporter": "python",
   "pygments_lexer": "ipython3",
   "version": "3.7.12"
  }
 },
 "nbformat": 4,
 "nbformat_minor": 5
}
